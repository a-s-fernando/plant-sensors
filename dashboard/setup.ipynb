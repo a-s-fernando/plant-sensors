{
 "cells": [
  {
   "cell_type": "code",
   "execution_count": 3,
   "metadata": {},
   "outputs": [],
   "source": [
    "import os\n",
    "import pandas as pd\n",
    "import plotly.express as px\n",
    "import s3fs\n",
    "from dotenv import load_dotenv"
   ]
  },
  {
   "cell_type": "code",
   "execution_count": 15,
   "metadata": {},
   "outputs": [],
   "source": [
    "\n",
    "def get_credentials():\n",
    "    '''Retrive AWS credentials from local environment'''\n",
    "    try:\n",
    "        load_dotenv()\n",
    "        config = os.environ\n",
    "        return config\n",
    "    except Exception as err:\n",
    "        print(\"Error loading environment variables\", err)\n",
    "\n",
    "    return config"
   ]
  },
  {
   "cell_type": "code",
   "execution_count": 20,
   "metadata": {},
   "outputs": [],
   "source": [
    "'''Connects to a given AWS S3 bucket.'''\n",
    "config = get_credentials()\n",
    "bucket = s3fs.S3FileSystem(anon=False, key=config.get('ACCESS_KEY_ID'), secret=config.get('SECRET_ACCESS_KEY'))"
   ]
  },
  {
   "cell_type": "code",
   "execution_count": 23,
   "metadata": {},
   "outputs": [],
   "source": [
    "def get_file_from_s3(bucket_name: str) -> str:\n",
    "    '''Check if input bucket has new XML files'''\n",
    "\n",
    "    bucket \n",
    "\n",
    "    finder = bucket.find(bucket_name)\n",
    "    # print(bucket)\n",
    "    for file in finder:\n",
    "        print(file)\n",
    "        "
   ]
  },
  {
   "cell_type": "code",
   "execution_count": 24,
   "metadata": {},
   "outputs": [
    {
     "name": "stdout",
     "output_type": "stream",
     "text": [
      "c7-aaa-s3-bucket/botanist.csv\n",
      "c7-aaa-s3-bucket/continent.csv\n",
      "c7-aaa-s3-bucket/country.csv\n",
      "c7-aaa-s3-bucket/plant.csv\n",
      "c7-aaa-s3-bucket/plant_cycle.csv\n",
      "c7-aaa-s3-bucket/record.csv\n",
      "c7-aaa-s3-bucket/sunlight_for_plant.csv\n",
      "c7-aaa-s3-bucket/sunlight_value.csv\n"
     ]
    }
   ],
   "source": [
    "get_file_from_s3(\"c7-aaa-s3-bucket\")"
   ]
  },
  {
   "cell_type": "code",
   "execution_count": 1,
   "metadata": {},
   "outputs": [],
   "source": [
    "# Averages per day for soil moisture and temp. - Callback to pick plants - Alain \n",
    "# Compare continents - sun values, plant cycles something? - Aala\n",
    "# Botanists - last watered, plant country/ continent - Abdirrahman\n"
   ]
  },
  {
   "cell_type": "code",
   "execution_count": null,
   "metadata": {},
   "outputs": [],
   "source": []
  }
 ],
 "metadata": {
  "kernelspec": {
   "display_name": "venv",
   "language": "python",
   "name": "python3"
  },
  "language_info": {
   "codemirror_mode": {
    "name": "ipython",
    "version": 3
   },
   "file_extension": ".py",
   "mimetype": "text/x-python",
   "name": "python",
   "nbconvert_exporter": "python",
   "pygments_lexer": "ipython3",
   "version": "3.10.9"
  },
  "orig_nbformat": 4,
  "vscode": {
   "interpreter": {
    "hash": "6cdf687cf33f138fa38116a59e0ffb73b0c2b941986f62286df21a91af2c79bd"
   }
  }
 },
 "nbformat": 4,
 "nbformat_minor": 2
}
